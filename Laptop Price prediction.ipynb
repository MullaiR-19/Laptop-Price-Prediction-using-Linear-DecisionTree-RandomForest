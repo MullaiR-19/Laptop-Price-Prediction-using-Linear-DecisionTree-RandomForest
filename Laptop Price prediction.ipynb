{
 "cells": [
  {
   "cell_type": "code",
   "execution_count": 1,
   "id": "310c3192",
   "metadata": {},
   "outputs": [],
   "source": [
    "import pandas as pd\n",
    "import numpy as np\n",
    "import matplotlib.pyplot as plt\n",
    "import seaborn as sns\n",
    "from sklearn.model_selection import train_test_split\n",
    "from sklearn.metrics import classification_report,confusion_matrix,accuracy_score\n",
    "from sklearn.preprocessing import StandardScaler"
   ]
  },
  {
   "cell_type": "code",
   "execution_count": 2,
   "id": "0c001979",
   "metadata": {},
   "outputs": [
    {
     "data": {
      "text/html": [
       "<div>\n",
       "<style scoped>\n",
       "    .dataframe tbody tr th:only-of-type {\n",
       "        vertical-align: middle;\n",
       "    }\n",
       "\n",
       "    .dataframe tbody tr th {\n",
       "        vertical-align: top;\n",
       "    }\n",
       "\n",
       "    .dataframe thead th {\n",
       "        text-align: right;\n",
       "    }\n",
       "</style>\n",
       "<table border=\"1\" class=\"dataframe\">\n",
       "  <thead>\n",
       "    <tr style=\"text-align: right;\">\n",
       "      <th></th>\n",
       "      <th>Unnamed: 0</th>\n",
       "      <th>Company</th>\n",
       "      <th>TypeName</th>\n",
       "      <th>Inches</th>\n",
       "      <th>ScreenResolution</th>\n",
       "      <th>Cpu</th>\n",
       "      <th>Ram</th>\n",
       "      <th>Memory</th>\n",
       "      <th>Gpu</th>\n",
       "      <th>OpSys</th>\n",
       "      <th>Weight</th>\n",
       "      <th>Price</th>\n",
       "    </tr>\n",
       "  </thead>\n",
       "  <tbody>\n",
       "    <tr>\n",
       "      <th>0</th>\n",
       "      <td>0</td>\n",
       "      <td>Apple</td>\n",
       "      <td>Ultrabook</td>\n",
       "      <td>13.3</td>\n",
       "      <td>IPS Panel Retina Display 2560x1600</td>\n",
       "      <td>Intel Core i5 2.3GHz</td>\n",
       "      <td>8GB</td>\n",
       "      <td>128GB SSD</td>\n",
       "      <td>Intel Iris Plus Graphics 640</td>\n",
       "      <td>macOS</td>\n",
       "      <td>1.37kg</td>\n",
       "      <td>71378.6832</td>\n",
       "    </tr>\n",
       "    <tr>\n",
       "      <th>1</th>\n",
       "      <td>1</td>\n",
       "      <td>Apple</td>\n",
       "      <td>Ultrabook</td>\n",
       "      <td>13.3</td>\n",
       "      <td>1440x900</td>\n",
       "      <td>Intel Core i5 1.8GHz</td>\n",
       "      <td>8GB</td>\n",
       "      <td>128GB Flash Storage</td>\n",
       "      <td>Intel HD Graphics 6000</td>\n",
       "      <td>macOS</td>\n",
       "      <td>1.34kg</td>\n",
       "      <td>47895.5232</td>\n",
       "    </tr>\n",
       "    <tr>\n",
       "      <th>2</th>\n",
       "      <td>2</td>\n",
       "      <td>HP</td>\n",
       "      <td>Notebook</td>\n",
       "      <td>15.6</td>\n",
       "      <td>Full HD 1920x1080</td>\n",
       "      <td>Intel Core i5 7200U 2.5GHz</td>\n",
       "      <td>8GB</td>\n",
       "      <td>256GB SSD</td>\n",
       "      <td>Intel HD Graphics 620</td>\n",
       "      <td>No OS</td>\n",
       "      <td>1.86kg</td>\n",
       "      <td>30636.0000</td>\n",
       "    </tr>\n",
       "    <tr>\n",
       "      <th>3</th>\n",
       "      <td>3</td>\n",
       "      <td>Apple</td>\n",
       "      <td>Ultrabook</td>\n",
       "      <td>15.4</td>\n",
       "      <td>IPS Panel Retina Display 2880x1800</td>\n",
       "      <td>Intel Core i7 2.7GHz</td>\n",
       "      <td>16GB</td>\n",
       "      <td>512GB SSD</td>\n",
       "      <td>AMD Radeon Pro 455</td>\n",
       "      <td>macOS</td>\n",
       "      <td>1.83kg</td>\n",
       "      <td>135195.3360</td>\n",
       "    </tr>\n",
       "    <tr>\n",
       "      <th>4</th>\n",
       "      <td>4</td>\n",
       "      <td>Apple</td>\n",
       "      <td>Ultrabook</td>\n",
       "      <td>13.3</td>\n",
       "      <td>IPS Panel Retina Display 2560x1600</td>\n",
       "      <td>Intel Core i5 3.1GHz</td>\n",
       "      <td>8GB</td>\n",
       "      <td>256GB SSD</td>\n",
       "      <td>Intel Iris Plus Graphics 650</td>\n",
       "      <td>macOS</td>\n",
       "      <td>1.37kg</td>\n",
       "      <td>96095.8080</td>\n",
       "    </tr>\n",
       "  </tbody>\n",
       "</table>\n",
       "</div>"
      ],
      "text/plain": [
       "   Unnamed: 0 Company   TypeName  Inches                    ScreenResolution  \\\n",
       "0           0   Apple  Ultrabook    13.3  IPS Panel Retina Display 2560x1600   \n",
       "1           1   Apple  Ultrabook    13.3                            1440x900   \n",
       "2           2      HP   Notebook    15.6                   Full HD 1920x1080   \n",
       "3           3   Apple  Ultrabook    15.4  IPS Panel Retina Display 2880x1800   \n",
       "4           4   Apple  Ultrabook    13.3  IPS Panel Retina Display 2560x1600   \n",
       "\n",
       "                          Cpu   Ram               Memory  \\\n",
       "0        Intel Core i5 2.3GHz   8GB            128GB SSD   \n",
       "1        Intel Core i5 1.8GHz   8GB  128GB Flash Storage   \n",
       "2  Intel Core i5 7200U 2.5GHz   8GB            256GB SSD   \n",
       "3        Intel Core i7 2.7GHz  16GB            512GB SSD   \n",
       "4        Intel Core i5 3.1GHz   8GB            256GB SSD   \n",
       "\n",
       "                            Gpu  OpSys  Weight        Price  \n",
       "0  Intel Iris Plus Graphics 640  macOS  1.37kg   71378.6832  \n",
       "1        Intel HD Graphics 6000  macOS  1.34kg   47895.5232  \n",
       "2         Intel HD Graphics 620  No OS  1.86kg   30636.0000  \n",
       "3            AMD Radeon Pro 455  macOS  1.83kg  135195.3360  \n",
       "4  Intel Iris Plus Graphics 650  macOS  1.37kg   96095.8080  "
      ]
     },
     "execution_count": 2,
     "metadata": {},
     "output_type": "execute_result"
    }
   ],
   "source": [
    "laptop_data = pd.read_csv(r\"Laptop Price Prediction\\laptop_data.csv\")\n",
    "laptop_data.head()\n",
    "#laptop_data.info()"
   ]
  },
  {
   "cell_type": "code",
   "execution_count": 3,
   "id": "c5541dc2",
   "metadata": {},
   "outputs": [],
   "source": [
    "laptop_data = laptop_data.drop('Unnamed: 0',axis=1)"
   ]
  },
  {
   "cell_type": "code",
   "execution_count": 4,
   "id": "016d588b",
   "metadata": {},
   "outputs": [],
   "source": [
    "Company_lit = laptop_data['Company'].unique()\n",
    "Company_dict = {Company_lit[i]:i for i in range(len(Company_lit))}\n",
    "laptop_data['Company'] = laptop_data['Company'].replace(Company_dict)"
   ]
  },
  {
   "cell_type": "code",
   "execution_count": 5,
   "id": "a35ca96b",
   "metadata": {},
   "outputs": [],
   "source": [
    "Cpu_list = laptop_data['Cpu'].unique()\n",
    "Cpu_dict = {Cpu_list[i]:i for i in range(len(Cpu_list))}\n",
    "laptop_data['Cpu'] = laptop_data['Cpu'].replace(Cpu_dict)"
   ]
  },
  {
   "cell_type": "code",
   "execution_count": 6,
   "id": "4ab0ffb8",
   "metadata": {},
   "outputs": [],
   "source": [
    "TypeName_list = laptop_data['TypeName'].unique()\n",
    "TypeName_dict = {TypeName_list[i]:i for i in range(len(TypeName_list))}\n",
    "laptop_data['TypeName'] = laptop_data['TypeName'].replace(TypeName_dict)"
   ]
  },
  {
   "cell_type": "code",
   "execution_count": 7,
   "id": "41fa6d98",
   "metadata": {},
   "outputs": [],
   "source": [
    "laptop_data['ScreenResolution'].value_counts()\n",
    "laptop_data['Resolution'] = laptop_data['ScreenResolution'].str[-9:]\n",
    "laptop_data[['Width','Height']] = laptop_data['Resolution'].str.split(pat='x',expand=True)"
   ]
  },
  {
   "cell_type": "code",
   "execution_count": 8,
   "id": "9d31edc3",
   "metadata": {},
   "outputs": [],
   "source": [
    "touch_list = []\n",
    "touch_list.clear()\n",
    "for i in laptop_data['ScreenResolution']:\n",
    "    x = lambda x : 1 if('Touchscreen' in i) else 0\n",
    "    touch_list.append(x(i))\n",
    "IPS_list = []\n",
    "IPS_list.clear()\n",
    "for i in laptop_data['ScreenResolution']:\n",
    "    x = lambda x : 1 if('IPS Panel' in i) else 0\n",
    "    IPS_list.append(x(i))\n",
    "UHD_list = []\n",
    "UHD_list.clear()\n",
    "for i in laptop_data['ScreenResolution']:\n",
    "    x = lambda x : 1 if('4K' in i) else 0\n",
    "    UHD_list.append(x(i))\n",
    "quad_list = []\n",
    "quad_list.clear()\n",
    "for i in laptop_data['ScreenResolution']:\n",
    "    x = lambda x : 1 if('Quad HD+' in i) else 0\n",
    "    quad_list.append(x(i))\n",
    "FullHD_list = []\n",
    "FullHD_list.clear()\n",
    "for i in laptop_data['ScreenResolution']:\n",
    "    x = lambda x : 1 if('Full HD' in i) else 0\n",
    "    FullHD_list.append(x(i))\n",
    "    \n",
    "laptop_data['Touchscreen'] = touch_list\n",
    "laptop_data['IPS Panel'] = IPS_list\n",
    "laptop_data['4K'] = UHD_list\n",
    "laptop_data['QuadHD+'] = quad_list\n",
    "laptop_data['Full HD'] = FullHD_list\n",
    "\n",
    "laptop_data=laptop_data.drop('ScreenResolution',axis=1)"
   ]
  },
  {
   "cell_type": "code",
   "execution_count": 9,
   "id": "9c181231",
   "metadata": {
    "scrolled": false
   },
   "outputs": [],
   "source": [
    "memory_list = laptop_data['Memory'].unique()\n",
    "memory_dict = {memory_list[i]:i for i in range(len(memory_list))}\n",
    "laptop_data['Memory'] = laptop_data['Memory'].replace(memory_dict)\n",
    "\n",
    "laptop_data['Ram'] = (laptop_data['Ram'].str.replace('GB','')).astype(int)"
   ]
  },
  {
   "cell_type": "code",
   "execution_count": 10,
   "id": "3ddcda0f",
   "metadata": {},
   "outputs": [],
   "source": [
    "gpu_list = laptop_data['Gpu'].unique()\n",
    "gpu_dict = {gpu_list[i]:i for i in range(len(gpu_list))}\n",
    "laptop_data['Gpu'] = laptop_data['Gpu'].replace(gpu_dict)\n",
    "\n",
    "os_list = laptop_data['OpSys'].unique()\n",
    "os_dict = {os_list[i]:i for i in range(len(os_list))}\n",
    "laptop_data['OpSys'] = laptop_data['OpSys'].replace(os_dict)\n",
    "\n",
    "laptop_data['Weight'] = (laptop_data['Weight'].str.replace('kg','')).astype(float)\n",
    "laptop_data = laptop_data.drop('Resolution',axis=1)\n",
    "\n",
    "#laptop_data['Width'].unique()\n",
    "laptop_data['Width'] = laptop_data['Width'].replace('D 1366','1366')\n",
    "laptop_data['Width'] = laptop_data['Width'].astype(int)\n",
    "laptop_data['Height'] = laptop_data['Height'].astype(int)\n",
    "\n",
    "laptop_data  = laptop_data.rename(columns={'Company':'Brand'})"
   ]
  },
  {
   "cell_type": "code",
   "execution_count": 11,
   "id": "7dec0a7c",
   "metadata": {},
   "outputs": [
    {
     "data": {
      "text/html": [
       "<div>\n",
       "<style scoped>\n",
       "    .dataframe tbody tr th:only-of-type {\n",
       "        vertical-align: middle;\n",
       "    }\n",
       "\n",
       "    .dataframe tbody tr th {\n",
       "        vertical-align: top;\n",
       "    }\n",
       "\n",
       "    .dataframe thead th {\n",
       "        text-align: right;\n",
       "    }\n",
       "</style>\n",
       "<table border=\"1\" class=\"dataframe\">\n",
       "  <thead>\n",
       "    <tr style=\"text-align: right;\">\n",
       "      <th></th>\n",
       "      <th>Brand</th>\n",
       "      <th>TypeName</th>\n",
       "      <th>Inches</th>\n",
       "      <th>Cpu</th>\n",
       "      <th>Ram</th>\n",
       "      <th>Memory</th>\n",
       "      <th>Gpu</th>\n",
       "      <th>OpSys</th>\n",
       "      <th>Weight</th>\n",
       "      <th>Price</th>\n",
       "      <th>Width</th>\n",
       "      <th>Height</th>\n",
       "      <th>Touchscreen</th>\n",
       "      <th>IPS Panel</th>\n",
       "      <th>4K</th>\n",
       "      <th>QuadHD+</th>\n",
       "      <th>Full HD</th>\n",
       "    </tr>\n",
       "  </thead>\n",
       "  <tbody>\n",
       "    <tr>\n",
       "      <th>0</th>\n",
       "      <td>0</td>\n",
       "      <td>0</td>\n",
       "      <td>13.3</td>\n",
       "      <td>0</td>\n",
       "      <td>8</td>\n",
       "      <td>0</td>\n",
       "      <td>0</td>\n",
       "      <td>0</td>\n",
       "      <td>1.37</td>\n",
       "      <td>71378.6832</td>\n",
       "      <td>2560</td>\n",
       "      <td>1600</td>\n",
       "      <td>0</td>\n",
       "      <td>1</td>\n",
       "      <td>0</td>\n",
       "      <td>0</td>\n",
       "      <td>0</td>\n",
       "    </tr>\n",
       "    <tr>\n",
       "      <th>1</th>\n",
       "      <td>0</td>\n",
       "      <td>0</td>\n",
       "      <td>13.3</td>\n",
       "      <td>1</td>\n",
       "      <td>8</td>\n",
       "      <td>1</td>\n",
       "      <td>1</td>\n",
       "      <td>0</td>\n",
       "      <td>1.34</td>\n",
       "      <td>47895.5232</td>\n",
       "      <td>1440</td>\n",
       "      <td>900</td>\n",
       "      <td>0</td>\n",
       "      <td>0</td>\n",
       "      <td>0</td>\n",
       "      <td>0</td>\n",
       "      <td>0</td>\n",
       "    </tr>\n",
       "    <tr>\n",
       "      <th>2</th>\n",
       "      <td>1</td>\n",
       "      <td>1</td>\n",
       "      <td>15.6</td>\n",
       "      <td>2</td>\n",
       "      <td>8</td>\n",
       "      <td>2</td>\n",
       "      <td>2</td>\n",
       "      <td>1</td>\n",
       "      <td>1.86</td>\n",
       "      <td>30636.0000</td>\n",
       "      <td>1920</td>\n",
       "      <td>1080</td>\n",
       "      <td>0</td>\n",
       "      <td>0</td>\n",
       "      <td>0</td>\n",
       "      <td>0</td>\n",
       "      <td>1</td>\n",
       "    </tr>\n",
       "    <tr>\n",
       "      <th>3</th>\n",
       "      <td>0</td>\n",
       "      <td>0</td>\n",
       "      <td>15.4</td>\n",
       "      <td>3</td>\n",
       "      <td>16</td>\n",
       "      <td>3</td>\n",
       "      <td>3</td>\n",
       "      <td>0</td>\n",
       "      <td>1.83</td>\n",
       "      <td>135195.3360</td>\n",
       "      <td>2880</td>\n",
       "      <td>1800</td>\n",
       "      <td>0</td>\n",
       "      <td>1</td>\n",
       "      <td>0</td>\n",
       "      <td>0</td>\n",
       "      <td>0</td>\n",
       "    </tr>\n",
       "    <tr>\n",
       "      <th>4</th>\n",
       "      <td>0</td>\n",
       "      <td>0</td>\n",
       "      <td>13.3</td>\n",
       "      <td>4</td>\n",
       "      <td>8</td>\n",
       "      <td>2</td>\n",
       "      <td>4</td>\n",
       "      <td>0</td>\n",
       "      <td>1.37</td>\n",
       "      <td>96095.8080</td>\n",
       "      <td>2560</td>\n",
       "      <td>1600</td>\n",
       "      <td>0</td>\n",
       "      <td>1</td>\n",
       "      <td>0</td>\n",
       "      <td>0</td>\n",
       "      <td>0</td>\n",
       "    </tr>\n",
       "  </tbody>\n",
       "</table>\n",
       "</div>"
      ],
      "text/plain": [
       "   Brand  TypeName  Inches  Cpu  Ram  Memory  Gpu  OpSys  Weight        Price  \\\n",
       "0      0         0    13.3    0    8       0    0      0    1.37   71378.6832   \n",
       "1      0         0    13.3    1    8       1    1      0    1.34   47895.5232   \n",
       "2      1         1    15.6    2    8       2    2      1    1.86   30636.0000   \n",
       "3      0         0    15.4    3   16       3    3      0    1.83  135195.3360   \n",
       "4      0         0    13.3    4    8       2    4      0    1.37   96095.8080   \n",
       "\n",
       "   Width  Height  Touchscreen  IPS Panel  4K  QuadHD+  Full HD  \n",
       "0   2560    1600            0          1   0        0        0  \n",
       "1   1440     900            0          0   0        0        0  \n",
       "2   1920    1080            0          0   0        0        1  \n",
       "3   2880    1800            0          1   0        0        0  \n",
       "4   2560    1600            0          1   0        0        0  "
      ]
     },
     "execution_count": 11,
     "metadata": {},
     "output_type": "execute_result"
    }
   ],
   "source": [
    "laptop_data.head()\n",
    "#laptop_data.info()\n",
    "#laptop_data.describe()"
   ]
  },
  {
   "cell_type": "code",
   "execution_count": 12,
   "id": "17f667f7",
   "metadata": {},
   "outputs": [],
   "source": [
    "#Spilitting up data\n",
    "laptop_data.isna().sum()\n",
    "X = laptop_data.drop('Price',axis=1)\n",
    "Y = laptop_data['Price']\n",
    "\n",
    "xTrain,xTest,yTrain,yTest = train_test_split(X,Y,random_state=10,test_size=1/5)"
   ]
  },
  {
   "cell_type": "code",
   "execution_count": 13,
   "id": "3a581411",
   "metadata": {},
   "outputs": [],
   "source": [
    "#using linear regression\n",
    "from sklearn.linear_model import LinearRegression\n",
    "linear_model =LinearRegression()"
   ]
  },
  {
   "cell_type": "code",
   "execution_count": 14,
   "id": "3592b032",
   "metadata": {},
   "outputs": [
    {
     "data": {
      "text/plain": [
       "LinearRegression()"
      ]
     },
     "execution_count": 14,
     "metadata": {},
     "output_type": "execute_result"
    }
   ],
   "source": [
    "linear_model.fit(xTrain,yTrain)"
   ]
  },
  {
   "cell_type": "code",
   "execution_count": 15,
   "id": "a29139b6",
   "metadata": {},
   "outputs": [
    {
     "name": "stdout",
     "output_type": "stream",
     "text": [
      "0.6536875052751561\n",
      "0.6953249688292085\n"
     ]
    }
   ],
   "source": [
    "print(linear_model.score(xTrain,yTrain))\n",
    "print(linear_model.score(xTest,yTest))"
   ]
  },
  {
   "cell_type": "code",
   "execution_count": 16,
   "id": "7163cb40",
   "metadata": {},
   "outputs": [],
   "source": [
    "#Linear regression failed to get better result"
   ]
  },
  {
   "cell_type": "code",
   "execution_count": 17,
   "id": "b3328825",
   "metadata": {},
   "outputs": [],
   "source": [
    "# Using decission Tree regressor\n",
    "from sklearn.tree import DecisionTreeRegressor\n",
    "tree_model = DecisionTreeRegressor(max_depth=10,min_samples_leaf=9)"
   ]
  },
  {
   "cell_type": "code",
   "execution_count": 18,
   "id": "c5cb35e5",
   "metadata": {},
   "outputs": [
    {
     "data": {
      "text/plain": [
       "DecisionTreeRegressor(max_depth=10, min_samples_leaf=9)"
      ]
     },
     "execution_count": 18,
     "metadata": {},
     "output_type": "execute_result"
    }
   ],
   "source": [
    "tree_model.fit(xTrain,yTrain)"
   ]
  },
  {
   "cell_type": "code",
   "execution_count": 19,
   "id": "262d2584",
   "metadata": {},
   "outputs": [
    {
     "data": {
      "text/plain": [
       "0.8090231827841919"
      ]
     },
     "execution_count": 19,
     "metadata": {},
     "output_type": "execute_result"
    }
   ],
   "source": [
    "tree_model.score(xTrain,yTrain)"
   ]
  },
  {
   "cell_type": "code",
   "execution_count": 20,
   "id": "277e7252",
   "metadata": {},
   "outputs": [
    {
     "data": {
      "text/plain": [
       "0.798355784058656"
      ]
     },
     "execution_count": 20,
     "metadata": {},
     "output_type": "execute_result"
    }
   ],
   "source": [
    "tree_model.score(xTest,yTest)"
   ]
  },
  {
   "cell_type": "code",
   "execution_count": 21,
   "id": "9fa634f4",
   "metadata": {},
   "outputs": [],
   "source": [
    "#using random forest regressor\n",
    "from sklearn.ensemble import RandomForestRegressor\n",
    "ensemble_model = RandomForestRegressor(max_depth=10,min_samples_leaf=9)"
   ]
  },
  {
   "cell_type": "code",
   "execution_count": 22,
   "id": "18a89331",
   "metadata": {},
   "outputs": [
    {
     "data": {
      "text/plain": [
       "RandomForestRegressor(max_depth=10, min_samples_leaf=9)"
      ]
     },
     "execution_count": 22,
     "metadata": {},
     "output_type": "execute_result"
    }
   ],
   "source": [
    "ensemble_model.fit(xTrain,yTrain)"
   ]
  },
  {
   "cell_type": "code",
   "execution_count": 23,
   "id": "9f2748e1",
   "metadata": {},
   "outputs": [
    {
     "name": "stdout",
     "output_type": "stream",
     "text": [
      "0.8161995536871288\n",
      "0.8037158582386464\n"
     ]
    }
   ],
   "source": [
    "print(ensemble_model.score(xTrain,yTrain))\n",
    "print(ensemble_model.score(xTest,yTest))"
   ]
  },
  {
   "cell_type": "code",
   "execution_count": 24,
   "id": "7df7b21f",
   "metadata": {},
   "outputs": [
    {
     "data": {
      "text/plain": [
       "<AxesSubplot:xlabel='Cpu'>"
      ]
     },
     "execution_count": 24,
     "metadata": {},
     "output_type": "execute_result"
    },
    {
     "data": {
      "image/png": "[encoded data removed]",
      "text/plain": [
       "<Figure size 432x288 with 1 Axes>"
      ]
     },
     "metadata": {
      "needs_background": "light"
     },
     "output_type": "display_data"
    }
   ],
   "source": [
    "# polotting datas\n",
    "#Linearregression\n",
    "linear_y_predict = linear_model.predict(xTest)\n",
    "sns.regplot(data=laptop_data,x=xTest.iloc[:,3],y=linear_y_predict)"
   ]
  },
  {
   "cell_type": "code",
   "execution_count": 25,
   "id": "c51c43c6",
   "metadata": {},
   "outputs": [
    {
     "data": {
      "text/plain": [
       "<AxesSubplot:xlabel='Cpu'>"
      ]
     },
     "execution_count": 25,
     "metadata": {},
     "output_type": "execute_result"
    },
    {
     "data": {
      "image/png": "[encoded data removed]",
      "text/plain": [
       "<Figure size 432x288 with 1 Axes>"
      ]
     },
     "metadata": {
      "needs_background": "light"
     },
     "output_type": "display_data"
    }
   ],
   "source": [
    "#decission tree regressor\n",
    "tree_y_predict = tree_model.predict(xTest)\n",
    "sns.regplot(data=laptop_data,x=xTest.iloc[:,3],y=tree_y_predict,color='g')"
   ]
  },
  {
   "cell_type": "code",
   "execution_count": 26,
   "id": "2363fbc8",
   "metadata": {},
   "outputs": [
    {
     "data": {
      "text/plain": [
       "<AxesSubplot:xlabel='Cpu'>"
      ]
     },
     "execution_count": 26,
     "metadata": {},
     "output_type": "execute_result"
    },
    {
     "data": {
      "image/png": "[encoded data removed]",
      "text/plain": [
       "<Figure size 432x288 with 1 Axes>"
      ]
     },
     "metadata": {
      "needs_background": "light"
     },
     "output_type": "display_data"
    }
   ],
   "source": [
    "#random forest regressor\n",
    "ensemble_y_predict = ensemble_model.predict(xTest)\n",
    "sns.regplot(data=laptop_data,x=xTest.iloc[:,3],y=ensemble_y_predict,color='m')"
   ]
  },
  {
   "cell_type": "code",
   "execution_count": 28,
   "id": "10b2f4a3",
   "metadata": {},
   "outputs": [
    {
     "data": {
      "text/plain": [
       "<AxesSubplot:xlabel='Price', ylabel='Density'>"
      ]
     },
     "execution_count": 28,
     "metadata": {},
     "output_type": "execute_result"
    },
    {
     "data": {
      "image/png": "[encoded data removed]",
      "text/plain": [
       "<Figure size 1080x720 with 1 Axes>"
      ]
     },
     "metadata": {
      "needs_background": "light"
     },
     "output_type": "display_data"
    }
   ],
   "source": [
    "import warnings\n",
    "warnings.filterwarnings('ignore')\n",
    "fig,axs = plt.subplots(figsize=(15,10))\n",
    "sns.distplot(yTest,hist=False)\n",
    "sns.distplot(linear_y_predict,hist=False,color='r',)\n",
    "sns.distplot(tree_y_predict,hist=False,color='m',)\n",
    "sns.distplot(ensemble_y_predict,hist=False,color='g')"
   ]
  },
  {
   "cell_type": "code",
   "execution_count": 94,
   "id": "947b2d87",
   "metadata": {},
   "outputs": [
    {
     "data": {
      "text/plain": [
       "array([23198.26422857])"
      ]
     },
     "execution_count": 94,
     "metadata": {},
     "output_type": "execute_result"
    }
   ],
   "source": [
    "#manual prediction\n",
    "data = np.array((laptop_data.iloc[10,:]).drop('Price')).reshape(1,-1)\n",
    "data\n",
    "predition = tree_model.predict(data)\n",
    "predition"
   ]
  },
  {
   "cell_type": "code",
   "execution_count": 97,
   "id": "08f229eb",
   "metadata": {},
   "outputs": [
    {
     "data": {
      "text/plain": [
       "Price    20986.992\n",
       "Name: 10, dtype: float64"
      ]
     },
     "execution_count": 97,
     "metadata": {},
     "output_type": "execute_result"
    }
   ],
   "source": [
    "laptop_data.iloc[10,9:10]"
   ]
  }
 ],
 "metadata": {
  "kernelspec": {
   "display_name": "Python 3 (ipykernel)",
   "language": "python",
   "name": "python3"
  },
  "language_info": {
   "codemirror_mode": {
    "name": "ipython",
    "version": 3
   },
   "file_extension": ".py",
   "mimetype": "text/x-python",
   "name": "python",
   "nbconvert_exporter": "python",
   "pygments_lexer": "ipython3",
   "version": "3.9.12"
  }
 },
 "nbformat": 4,
 "nbformat_minor": 5
}
